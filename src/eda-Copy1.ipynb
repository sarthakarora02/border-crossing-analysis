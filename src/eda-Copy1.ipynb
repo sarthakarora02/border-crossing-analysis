{
 "cells": [
  {
   "cell_type": "code",
   "execution_count": 1,
   "metadata": {},
   "outputs": [
    {
     "name": "stdout",
     "output_type": "stream",
     "text": [
      "/Users/sarthakarora/Insight/insight-borderanalysis/src\r\n"
     ]
    }
   ],
   "source": [
    "!pwd"
   ]
  },
  {
   "cell_type": "code",
   "execution_count": 2,
   "metadata": {},
   "outputs": [
    {
     "name": "stdout",
     "output_type": "stream",
     "text": [
      "Port Name\n",
      "State\n",
      "Port Code\n",
      "Border\n",
      "Date\n",
      "Measure\n",
      "Value\n"
     ]
    }
   ],
   "source": [
    "import csv\n",
    "csvpath = '../input/Border_Crossing_Entry_Data.csv'\n",
    "csvpath2 = '../input/Border_Crossing_Entry_Data2.csv'\n",
    "data = {}\n",
    "data2 = {}\n",
    "with open(csvpath) as csvfile:\n",
    "    readCSV = csv.reader(csvfile, delimiter=',')\n",
    "    for i,row in enumerate(readCSV):\n",
    "        if i == 0:\n",
    "            cols = row\n",
    "            for colname in row:\n",
    "                data[colname] = []\n",
    "        else:\n",
    "            for j,value in enumerate(row):\n",
    "                data[cols[j]].append(value)\n",
    "                \n",
    "with open(csvpath2) as csvfile:\n",
    "    readCSV = csv.reader(csvfile, delimiter=',')\n",
    "    for i,row in enumerate(readCSV):\n",
    "        if i == 0:\n",
    "            cols = row\n",
    "            for colname in row:\n",
    "                data2[colname] = []\n",
    "                print(colname)\n",
    "        else:\n",
    "            for j,value in enumerate(row):\n",
    "                data2[cols[j]].append(value)\n",
    "            \n",
    "        "
   ]
  },
  {
   "cell_type": "code",
   "execution_count": 3,
   "metadata": {},
   "outputs": [],
   "source": [
    "keys = ['Port Name','State','Port Code','Border','Date','Measure','Value']"
   ]
  },
  {
   "cell_type": "code",
   "execution_count": 4,
   "metadata": {},
   "outputs": [],
   "source": [
    "# import json\n",
    "# print (json.dumps(data,indent=4))\n",
    "# # print(data)"
   ]
  },
  {
   "cell_type": "code",
   "execution_count": 5,
   "metadata": {},
   "outputs": [],
   "source": [
    "# ## zipped instances are meant for only one iteration. They get exhausted after that\n",
    "# mapped = zip(data['State'], data['Port Code'],data['Border'], data['Date'],data['Measure'], data['Value'],data['Location'])"
   ]
  },
  {
   "cell_type": "code",
   "execution_count": 6,
   "metadata": {},
   "outputs": [
    {
     "data": {
      "text/plain": [
       "{'US-Canada Border', 'US-Mexico Border'}"
      ]
     },
     "execution_count": 6,
     "metadata": {},
     "output_type": "execute_result"
    }
   ],
   "source": [
    "# set(data2['Border']) # to print unique elements in list of borders"
   ]
  },
  {
   "cell_type": "code",
   "execution_count": 7,
   "metadata": {},
   "outputs": [
    {
     "data": {
      "text/plain": [
       "{'AK',\n",
       " 'AZ',\n",
       " 'CA',\n",
       " 'ID',\n",
       " 'ME',\n",
       " 'MI',\n",
       " 'MN',\n",
       " 'MT',\n",
       " 'ND',\n",
       " 'NM',\n",
       " 'NY',\n",
       " 'OH',\n",
       " 'TX',\n",
       " 'VT',\n",
       " 'WA'}"
      ]
     },
     "execution_count": 7,
     "metadata": {},
     "output_type": "execute_result"
    }
   ],
   "source": [
    "set(data2['State'])"
   ]
  },
  {
   "cell_type": "code",
   "execution_count": 8,
   "metadata": {},
   "outputs": [
    {
     "data": {
      "text/plain": [
       "['Trucks',\n",
       " 'Truck Containers Full',\n",
       " 'Truck Containers Empty',\n",
       " 'Trains',\n",
       " 'Train Passengers',\n",
       " 'Rail Containers Full',\n",
       " 'Rail Containers Empty',\n",
       " 'Personal Vehicles',\n",
       " 'Personal Vehicle Passengers',\n",
       " 'Pedestrians',\n",
       " 'Buses',\n",
       " 'Bus Passengers']"
      ]
     },
     "execution_count": 8,
     "metadata": {},
     "output_type": "execute_result"
    }
   ],
   "source": [
    "sorted(set(data2['Measure']),reverse=True)"
   ]
  },
  {
   "cell_type": "code",
   "execution_count": 9,
   "metadata": {},
   "outputs": [
    {
     "data": {
      "text/plain": [
       "{'01/01/2019 12:00:00 AM', '02/01/2019 12:00:00 AM', '03/01/2019 12:00:00 AM'}"
      ]
     },
     "execution_count": 9,
     "metadata": {},
     "output_type": "execute_result"
    }
   ],
   "source": [
    "# type(list(set(data2['Date']))[0])\n",
    "set(data['Date'])"
   ]
  },
  {
   "cell_type": "code",
   "execution_count": 10,
   "metadata": {},
   "outputs": [],
   "source": [
    "def groupby_column(dictionary, column):\n",
    "    temp = {}\n",
    "    for index, key in enumerate(dictionary[column]):\n",
    "        try:\n",
    "            temp[key].append(index)\n",
    "        except:\n",
    "            temp[key] = [index]\n",
    "    return temp"
   ]
  },
  {
   "cell_type": "code",
   "execution_count": 11,
   "metadata": {},
   "outputs": [],
   "source": [
    "# filtering on dates. getting indices\n",
    "groupby_date = groupby_column(data2,keys[4])\n",
    "groupby_measure = groupby_column(data2,keys[5])\n",
    "groupby_border = groupby_column(data2,keys[3])\n",
    "\n",
    "# groupby_date = groupby_column(data,keys[4])\n",
    "# groupby_measure = groupby_column(data,keys[5])\n",
    "# groupby_border = groupby_column(data,keys[3])"
   ]
  },
  {
   "cell_type": "code",
   "execution_count": 12,
   "metadata": {},
   "outputs": [],
   "source": [
    "# groupby_border"
   ]
  },
  {
   "cell_type": "code",
   "execution_count": 13,
   "metadata": {},
   "outputs": [],
   "source": [
    "# sorted(groupby_date,reverse=True)"
   ]
  },
  {
   "cell_type": "code",
   "execution_count": 15,
   "metadata": {},
   "outputs": [],
   "source": [
    "reportkeys = ['Border','Date','Measure','Value','Average']\n",
    "f2 = {}\n",
    "for key in reportkeys:\n",
    "    f2[key] = []\n",
    "\n",
    "for date in sorted(groupby_date,reverse=True):\n",
    "    for measure in sorted(groupby_measure):\n",
    "        for border in sorted(groupby_border):\n",
    "            intersection = list(set(groupby_measure[measure]) & set(groupby_date[date]) & set(groupby_border[border]))\n",
    "            if len(intersection) != 0:\n",
    "#                 res = [int(data[keys[6]][i]) for i in intersection]\n",
    "                res = [int(data2[keys[6]][i]) for i in intersection]\n",
    "#                 print(border,date,measure,sum(res))\n",
    "                f2[reportkeys[0]].append(border)\n",
    "                f2[reportkeys[1]].append(date)\n",
    "                f2[reportkeys[2]].append(measure)\n",
    "                f2[reportkeys[3]].append(sum(res))\n",
    "                f2[reportkeys[4]].append(0)\n",
    "#             print(res, sum(res))"
   ]
  },
  {
   "cell_type": "code",
   "execution_count": null,
   "metadata": {},
   "outputs": [],
   "source": [
    "# f2"
   ]
  },
  {
   "cell_type": "code",
   "execution_count": 16,
   "metadata": {},
   "outputs": [],
   "source": [
    "def proper_round(num):\n",
    "#     print(num)\n",
    "    temp = str(num)\n",
    "    temp = temp.split('.')    \n",
    "    if int(temp[1]) >= 5:\n",
    "        return int(temp[0])+1\n",
    "    else:\n",
    "        return int(temp[0])\n",
    "    "
   ]
  },
  {
   "cell_type": "code",
   "execution_count": 17,
   "metadata": {},
   "outputs": [],
   "source": [
    "def compute_movavg(f2):\n",
    "    for measure in set(f2[reportkeys[2]]):\n",
    "        firstoccurrence = 0\n",
    "        idx = []\n",
    "        for m in range(len(f2[reportkeys[2]])-1,-1,-1):\n",
    "            if f2[reportkeys[2]][m] == measure and firstoccurrence == 0:\n",
    "                firstoccurrence = 1\n",
    "                f2[reportkeys[4]][m] = 0\n",
    "                idx.append(m)\n",
    "            elif f2[reportkeys[2]][m] == measure and firstoccurrence == 1:\n",
    "                tobesummed = [f2[reportkeys[3]][i] for i in idx]\n",
    "                movavg = sum(tobesummed)/len(tobesummed)\n",
    "                idx.append(m)\n",
    "                movavg = proper_round(movavg)\n",
    "                f2[reportkeys[4]][m] = movavg\n",
    "    return f2\n",
    "            \n",
    "#         print(f2[reportkeys[1]][m])\n",
    "#         print(m)"
   ]
  },
  {
   "cell_type": "code",
   "execution_count": 18,
   "metadata": {},
   "outputs": [],
   "source": [
    "f2 = compute_movavg(f2)"
   ]
  },
  {
   "cell_type": "code",
   "execution_count": 19,
   "metadata": {},
   "outputs": [],
   "source": [
    "groupby_value = groupby_column(f2, reportkeys[3])\n",
    "groupby_average = groupby_column(f2, reportkeys[4])\n",
    "groupby_date = groupby_column(f2, reportkeys[1])\n",
    "groupby_measure = groupby_column(f2, reportkeys[2])\n",
    "groupby_border = groupby_column(f2, reportkeys[0])"
   ]
  },
  {
   "cell_type": "code",
   "execution_count": null,
   "metadata": {},
   "outputs": [],
   "source": [
    "# groupby_border"
   ]
  },
  {
   "cell_type": "code",
   "execution_count": 20,
   "metadata": {},
   "outputs": [
    {
     "ename": "KeyboardInterrupt",
     "evalue": "",
     "output_type": "error",
     "traceback": [
      "\u001b[0;31m---------------------------------------------------------------------------\u001b[0m",
      "\u001b[0;31mKeyboardInterrupt\u001b[0m                         Traceback (most recent call last)",
      "\u001b[0;32m<ipython-input-20-3452d6d427eb>\u001b[0m in \u001b[0;36m<module>\u001b[0;34m\u001b[0m\n\u001b[1;32m     18\u001b[0m             \u001b[0;32mfor\u001b[0m \u001b[0mborder\u001b[0m \u001b[0;32min\u001b[0m \u001b[0mgroupby_border\u001b[0m\u001b[0;34m:\u001b[0m\u001b[0;34m\u001b[0m\u001b[0m\n\u001b[1;32m     19\u001b[0m                 \u001b[0;32mfor\u001b[0m \u001b[0maverage\u001b[0m \u001b[0;32min\u001b[0m \u001b[0mgroupby_average\u001b[0m\u001b[0;34m:\u001b[0m\u001b[0;34m\u001b[0m\u001b[0m\n\u001b[0;32m---> 20\u001b[0;31m                     \u001b[0mintersection\u001b[0m \u001b[0;34m=\u001b[0m \u001b[0mlist\u001b[0m\u001b[0;34m(\u001b[0m\u001b[0mset\u001b[0m\u001b[0;34m(\u001b[0m\u001b[0mgroupby_measure\u001b[0m\u001b[0;34m[\u001b[0m\u001b[0mmeasure\u001b[0m\u001b[0;34m]\u001b[0m\u001b[0;34m)\u001b[0m \u001b[0;34m&\u001b[0m \u001b[0mset\u001b[0m\u001b[0;34m(\u001b[0m\u001b[0mgroupby_date\u001b[0m\u001b[0;34m[\u001b[0m\u001b[0mdate\u001b[0m\u001b[0;34m]\u001b[0m\u001b[0;34m)\u001b[0m \u001b[0;34m&\u001b[0m \u001b[0mset\u001b[0m\u001b[0;34m(\u001b[0m\u001b[0mgroupby_border\u001b[0m\u001b[0;34m[\u001b[0m\u001b[0mborder\u001b[0m\u001b[0;34m]\u001b[0m\u001b[0;34m)\u001b[0m \u001b[0;34m&\u001b[0m \u001b[0mset\u001b[0m\u001b[0;34m(\u001b[0m\u001b[0mgroupby_value\u001b[0m\u001b[0;34m[\u001b[0m\u001b[0mvalue\u001b[0m\u001b[0;34m]\u001b[0m\u001b[0;34m)\u001b[0m \u001b[0;34m&\u001b[0m \u001b[0mset\u001b[0m\u001b[0;34m(\u001b[0m\u001b[0mgroupby_average\u001b[0m\u001b[0;34m[\u001b[0m\u001b[0maverage\u001b[0m\u001b[0;34m]\u001b[0m\u001b[0;34m)\u001b[0m\u001b[0;34m)\u001b[0m\u001b[0;34m\u001b[0m\u001b[0m\n\u001b[0m\u001b[1;32m     21\u001b[0m                     \u001b[0;32mif\u001b[0m \u001b[0mlen\u001b[0m\u001b[0;34m(\u001b[0m\u001b[0mintersection\u001b[0m\u001b[0;34m)\u001b[0m \u001b[0;34m!=\u001b[0m \u001b[0;36m0\u001b[0m\u001b[0;34m:\u001b[0m\u001b[0;34m\u001b[0m\u001b[0m\n\u001b[1;32m     22\u001b[0m                         \u001b[0mrow\u001b[0m \u001b[0;34m=\u001b[0m \u001b[0;34m[\u001b[0m\u001b[0mborder\u001b[0m\u001b[0;34m,\u001b[0m\u001b[0mdate\u001b[0m\u001b[0;34m,\u001b[0m\u001b[0mmeasure\u001b[0m\u001b[0;34m,\u001b[0m\u001b[0mvalue\u001b[0m\u001b[0;34m,\u001b[0m\u001b[0maverage\u001b[0m\u001b[0;34m]\u001b[0m\u001b[0;34m\u001b[0m\u001b[0m\n",
      "\u001b[0;31mKeyboardInterrupt\u001b[0m: "
     ]
    }
   ],
   "source": [
    "f3 = {}\n",
    "for key in reportkeys:\n",
    "    f3[key] = []\n",
    "\n",
    "filename = '../output/report2.csv'\n",
    "# # writing to csv file \n",
    "# with open(filename, 'w') as csvfile: \n",
    "#     # creating a csv writer object \n",
    "#     csvwriter = csv.writer(csvfile) \n",
    "      \n",
    "#     # writing the fields \n",
    "#     csvwriter.writerow(reportkeys) \n",
    "      \n",
    "    \n",
    "for date in groupby_date:\n",
    "    for value in sorted(groupby_value,reverse = True):\n",
    "        for measure in groupby_measure:\n",
    "            for border in groupby_border:\n",
    "                for average in groupby_average:\n",
    "                    intersection = list(set(groupby_measure[measure]) & set(groupby_date[date]) & set(groupby_border[border]) & set(groupby_value[value]) & set(groupby_average[average]))\n",
    "                    if len(intersection) != 0:\n",
    "                        row = [border,date,measure,value,average]\n",
    "                        # writing the data rows \n",
    "#                             print(row)\n",
    "#                             csvwriter.writerow(row)\n",
    "                        f3[reportkeys[0]].append(border)\n",
    "                        f3[reportkeys[1]].append(date)\n",
    "                        f3[reportkeys[2]].append(measure)\n",
    "                        f3[reportkeys[3]].append(value)\n",
    "                        f3[reportkeys[4]].append(average)"
   ]
  },
  {
   "cell_type": "code",
   "execution_count": null,
   "metadata": {},
   "outputs": [],
   "source": [
    "filename = '../output/report2.csv'\n",
    "# # writing to csv file \n",
    "with open(filename, 'w') as csvfile: \n",
    "    # creating a csv writer object \n",
    "    csvwriter = csv.writer(csvfile) \n",
    "      \n",
    "    # writing the fields \n",
    "    csvwriter.writerow(reportkeys)\n",
    "    mapped = zip(f3['Border'], f3['Date'],f3['Measure'],f3['Value'],f3['Average'])\n",
    "    \n",
    "    csvwriter.writerows(mapped) \n",
    "#     for data in f3.items():\n",
    "        "
   ]
  },
  {
   "cell_type": "code",
   "execution_count": null,
   "metadata": {},
   "outputs": [],
   "source": []
  }
 ],
 "metadata": {
  "kernelspec": {
   "display_name": "Python 3",
   "language": "python",
   "name": "python3"
  },
  "language_info": {
   "codemirror_mode": {
    "name": "ipython",
    "version": 3
   },
   "file_extension": ".py",
   "mimetype": "text/x-python",
   "name": "python",
   "nbconvert_exporter": "python",
   "pygments_lexer": "ipython3",
   "version": "3.6.6"
  }
 },
 "nbformat": 4,
 "nbformat_minor": 2
}
