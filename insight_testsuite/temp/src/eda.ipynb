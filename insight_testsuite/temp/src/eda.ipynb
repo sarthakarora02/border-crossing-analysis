{
 "cells": [
  {
   "cell_type": "code",
   "execution_count": 1,
   "metadata": {},
   "outputs": [
    {
     "name": "stdout",
     "output_type": "stream",
     "text": [
      "/Users/sarthakarora/Insight/insight-borderanalysis/src\r\n"
     ]
    }
   ],
   "source": [
    "!pwd"
   ]
  },
  {
   "cell_type": "code",
   "execution_count": 2,
   "metadata": {},
   "outputs": [
    {
     "name": "stdout",
     "output_type": "stream",
     "text": [
      "Port Name\n",
      "State\n",
      "Port Code\n",
      "Border\n",
      "Date\n",
      "Measure\n",
      "Value\n"
     ]
    }
   ],
   "source": [
    "import csv\n",
    "csvpath = '../input/Border_Crossing_Entry_Data.csv'\n",
    "csvpath2 = '../input/Border_Crossing_Entry_Data2.csv'\n",
    "data = {}\n",
    "data2 = {}\n",
    "with open(csvpath) as csvfile:\n",
    "    readCSV = csv.reader(csvfile, delimiter=',')\n",
    "    for i,row in enumerate(readCSV):\n",
    "        if i == 0:\n",
    "            cols = row\n",
    "            for colname in row:\n",
    "                data[colname] = []\n",
    "        else:\n",
    "            for j,value in enumerate(row):\n",
    "                data[cols[j]].append(value)\n",
    "                \n",
    "with open(csvpath2) as csvfile:\n",
    "    readCSV = csv.reader(csvfile, delimiter=',')\n",
    "    for i,row in enumerate(readCSV):\n",
    "        if i == 0:\n",
    "            cols = row\n",
    "            for colname in row:\n",
    "                data2[colname] = []\n",
    "                print(colname)\n",
    "        else:\n",
    "            for j,value in enumerate(row):\n",
    "                data2[cols[j]].append(value)\n",
    "            \n",
    "        "
   ]
  },
  {
   "cell_type": "code",
   "execution_count": 3,
   "metadata": {},
   "outputs": [],
   "source": [
    "keys = ['Port Name','State','Port Code','Border','Date','Measure','Value']"
   ]
  },
  {
   "cell_type": "code",
   "execution_count": 209,
   "metadata": {},
   "outputs": [],
   "source": [
    "# import json\n",
    "# print (json.dumps(data,indent=4))\n",
    "# # print(data)"
   ]
  },
  {
   "cell_type": "code",
   "execution_count": 210,
   "metadata": {},
   "outputs": [],
   "source": [
    "# ## zipped instances are meant for only one iteration. They get exhausted after that\n",
    "# mapped = zip(data['State'], data['Port Code'],data['Border'], data['Date'],data['Measure'], data['Value'],data['Location'])"
   ]
  },
  {
   "cell_type": "code",
   "execution_count": 211,
   "metadata": {},
   "outputs": [],
   "source": [
    "# for a in mapped:\n",
    "#     print(a)"
   ]
  },
  {
   "cell_type": "code",
   "execution_count": 212,
   "metadata": {},
   "outputs": [
    {
     "data": {
      "text/plain": [
       "{'US-Canada Border', 'US-Mexico Border'}"
      ]
     },
     "execution_count": 212,
     "metadata": {},
     "output_type": "execute_result"
    }
   ],
   "source": [
    "set(data2['Border']) # to print unique elements in list of borders"
   ]
  },
  {
   "cell_type": "code",
   "execution_count": 213,
   "metadata": {},
   "outputs": [
    {
     "data": {
      "text/plain": [
       "{'AK',\n",
       " 'AZ',\n",
       " 'CA',\n",
       " 'ID',\n",
       " 'ME',\n",
       " 'MI',\n",
       " 'MN',\n",
       " 'MT',\n",
       " 'ND',\n",
       " 'NM',\n",
       " 'NY',\n",
       " 'OH',\n",
       " 'TX',\n",
       " 'VT',\n",
       " 'WA'}"
      ]
     },
     "execution_count": 213,
     "metadata": {},
     "output_type": "execute_result"
    }
   ],
   "source": [
    "set(data2['State'])"
   ]
  },
  {
   "cell_type": "code",
   "execution_count": 214,
   "metadata": {},
   "outputs": [
    {
     "data": {
      "text/plain": [
       "['Trucks',\n",
       " 'Truck Containers Full',\n",
       " 'Truck Containers Empty',\n",
       " 'Trains',\n",
       " 'Train Passengers',\n",
       " 'Rail Containers Full',\n",
       " 'Rail Containers Empty',\n",
       " 'Personal Vehicles',\n",
       " 'Personal Vehicle Passengers',\n",
       " 'Pedestrians',\n",
       " 'Buses',\n",
       " 'Bus Passengers']"
      ]
     },
     "execution_count": 214,
     "metadata": {},
     "output_type": "execute_result"
    }
   ],
   "source": [
    "sorted(set(data2['Measure']),reverse=True)"
   ]
  },
  {
   "cell_type": "code",
   "execution_count": 215,
   "metadata": {},
   "outputs": [
    {
     "data": {
      "text/plain": [
       "{'01/01/2019 12:00:00 AM', '02/01/2019 12:00:00 AM', '03/01/2019 12:00:00 AM'}"
      ]
     },
     "execution_count": 215,
     "metadata": {},
     "output_type": "execute_result"
    }
   ],
   "source": [
    "# type(list(set(data2['Date']))[0])\n",
    "set(data['Date'])"
   ]
  },
  {
   "cell_type": "code",
   "execution_count": 185,
   "metadata": {},
   "outputs": [],
   "source": [
    "# filtering on dates. getting indices\n",
    "temp = {}\n",
    "for i,date in enumerate(data[keys[4]]):\n",
    "    try:\n",
    "        temp[date].append(i)\n",
    "    except:\n",
    "        temp[date] = [i]\n"
   ]
  },
  {
   "cell_type": "code",
   "execution_count": 186,
   "metadata": {},
   "outputs": [
    {
     "data": {
      "text/plain": [
       "{'03/01/2019 12:00:00 AM': [0, 1, 2],\n",
       " '02/01/2019 12:00:00 AM': [3, 4, 5],\n",
       " '01/01/2019 12:00:00 AM': [6]}"
      ]
     },
     "execution_count": 186,
     "metadata": {},
     "output_type": "execute_result"
    }
   ],
   "source": [
    "temp"
   ]
  },
  {
   "cell_type": "code",
   "execution_count": 187,
   "metadata": {},
   "outputs": [
    {
     "data": {
      "text/plain": [
       "['03/01/2019 12:00:00 AM', '02/01/2019 12:00:00 AM', '01/01/2019 12:00:00 AM']"
      ]
     },
     "execution_count": 187,
     "metadata": {},
     "output_type": "execute_result"
    }
   ],
   "source": [
    "sorted(temp,reverse=True)"
   ]
  },
  {
   "cell_type": "code",
   "execution_count": 188,
   "metadata": {},
   "outputs": [],
   "source": [
    "# filtering on measure. getting indices\n",
    "t2 = {}\n",
    "# for i,measure in enumerate(data_usmex[keys[5]]):\n",
    "for i,measure in enumerate(data[keys[5]]):\n",
    "    try:\n",
    "        t2[measure].append(i)\n",
    "    except:\n",
    "        t2[measure] = [i]"
   ]
  },
  {
   "cell_type": "code",
   "execution_count": 189,
   "metadata": {},
   "outputs": [
    {
     "data": {
      "text/plain": [
       "{'Truck Containers Full': [0],\n",
       " 'Trains': [1],\n",
       " 'Pedestrians': [2, 3, 5, 6],\n",
       " 'Truck Containers Empty': [4]}"
      ]
     },
     "execution_count": 189,
     "metadata": {},
     "output_type": "execute_result"
    }
   ],
   "source": [
    "t2"
   ]
  },
  {
   "cell_type": "code",
   "execution_count": 190,
   "metadata": {},
   "outputs": [],
   "source": [
    "# filtering on borders. getting indices\n",
    "t3 = {}\n",
    "# for i,border in enumerate(data_usmex[keys[3]]):\n",
    "for i,border in enumerate(data[keys[3]]):\n",
    "    try:\n",
    "        t3[border].append(i)\n",
    "    except:\n",
    "        t3[border] = [i]"
   ]
  },
  {
   "cell_type": "code",
   "execution_count": 191,
   "metadata": {},
   "outputs": [
    {
     "data": {
      "text/plain": [
       "{'US-Canada Border': [0, 1, 4], 'US-Mexico Border': [2, 3, 5, 6]}"
      ]
     },
     "execution_count": 191,
     "metadata": {},
     "output_type": "execute_result"
    }
   ],
   "source": [
    "t3"
   ]
  },
  {
   "cell_type": "code",
   "execution_count": 192,
   "metadata": {},
   "outputs": [
    {
     "name": "stdout",
     "output_type": "stream",
     "text": [
      "US-Mexico Border , 03/01/2019 12:00:00 AM , Pedestrians 346158\n",
      "US-Canada Border , 03/01/2019 12:00:00 AM , Trains 19\n",
      "US-Canada Border , 03/01/2019 12:00:00 AM , Truck Containers Full 6483\n",
      "US-Mexico Border , 02/01/2019 12:00:00 AM , Pedestrians 172163\n",
      "US-Canada Border , 02/01/2019 12:00:00 AM , Truck Containers Empty 1319\n",
      "US-Mexico Border , 01/01/2019 12:00:00 AM , Pedestrians 56810\n"
     ]
    }
   ],
   "source": [
    "reportkeys = ['Border','Date','Measure','Value','Average']\n",
    "f2 = {}\n",
    "for key in reportkeys:\n",
    "    f2[key] = []\n",
    "\n",
    "for date in sorted(temp,reverse=True):\n",
    "    for measure in sorted(t2):\n",
    "        for border in sorted(t3):\n",
    "            inter = list(set(t2[measure]) & set(temp[date]) & set(t3[border]))\n",
    "            if len(inter) != 0:\n",
    "                res = [int(data[keys[6]][i]) for i in inter]\n",
    "                print(border,',',date,',',measure,sum(res))\n",
    "                f2[reportkeys[0]].append(border)\n",
    "                f2[reportkeys[1]].append(date)\n",
    "                f2[reportkeys[2]].append(measure)\n",
    "                f2[reportkeys[3]].append(sum(res))\n",
    "                f2[reportkeys[4]].append(0)\n",
    "#             print(res, sum(res))"
   ]
  },
  {
   "cell_type": "code",
   "execution_count": 193,
   "metadata": {},
   "outputs": [
    {
     "data": {
      "text/plain": [
       "{'Border': ['US-Mexico Border',\n",
       "  'US-Canada Border',\n",
       "  'US-Canada Border',\n",
       "  'US-Mexico Border',\n",
       "  'US-Canada Border',\n",
       "  'US-Mexico Border'],\n",
       " 'Date': ['03/01/2019 12:00:00 AM',\n",
       "  '03/01/2019 12:00:00 AM',\n",
       "  '03/01/2019 12:00:00 AM',\n",
       "  '02/01/2019 12:00:00 AM',\n",
       "  '02/01/2019 12:00:00 AM',\n",
       "  '01/01/2019 12:00:00 AM'],\n",
       " 'Measure': ['Pedestrians',\n",
       "  'Trains',\n",
       "  'Truck Containers Full',\n",
       "  'Pedestrians',\n",
       "  'Truck Containers Empty',\n",
       "  'Pedestrians'],\n",
       " 'Value': [346158, 19, 6483, 172163, 1319, 56810],\n",
       " 'Average': [0, 0, 0, 0, 0, 0]}"
      ]
     },
     "execution_count": 193,
     "metadata": {},
     "output_type": "execute_result"
    }
   ],
   "source": [
    "f2"
   ]
  },
  {
   "cell_type": "code",
   "execution_count": 194,
   "metadata": {},
   "outputs": [],
   "source": [
    "def proper_round(num):\n",
    "#     print(num)\n",
    "    temp = str(num)\n",
    "    temp = temp.split('.')    \n",
    "    if int(temp[1]) >= 5:\n",
    "        return int(temp[0])+1\n",
    "    else:\n",
    "        return int(temp[0])\n",
    "    "
   ]
  },
  {
   "cell_type": "code",
   "execution_count": 195,
   "metadata": {},
   "outputs": [],
   "source": [
    "for measure in set(f2[reportkeys[2]]):\n",
    "    firstoccurrence = 0\n",
    "    idx = []\n",
    "    for m in range(len(f2[reportkeys[2]])-1,-1,-1):\n",
    "        if f2[reportkeys[2]][m] == measure and firstoccurrence == 0:\n",
    "            firstoccurrence = 1\n",
    "            f2[reportkeys[4]][m] = 0\n",
    "            idx.append(m)\n",
    "        elif f2[reportkeys[2]][m] == measure and firstoccurrence == 1:\n",
    "            tobesummed = [f2[reportkeys[3]][i] for i in idx]\n",
    "            movavg = sum(tobesummed)/len(tobesummed)\n",
    "            idx.append(m)\n",
    "            movavg = proper_round(movavg)\n",
    "            f2[reportkeys[4]][m] = movavg\n",
    "            \n",
    "#         print(f2[reportkeys[1]][m])\n",
    "#         print(m)"
   ]
  },
  {
   "cell_type": "code",
   "execution_count": 196,
   "metadata": {},
   "outputs": [
    {
     "data": {
      "text/plain": [
       "{'Border': ['US-Mexico Border',\n",
       "  'US-Canada Border',\n",
       "  'US-Canada Border',\n",
       "  'US-Mexico Border',\n",
       "  'US-Canada Border',\n",
       "  'US-Mexico Border'],\n",
       " 'Date': ['03/01/2019 12:00:00 AM',\n",
       "  '03/01/2019 12:00:00 AM',\n",
       "  '03/01/2019 12:00:00 AM',\n",
       "  '02/01/2019 12:00:00 AM',\n",
       "  '02/01/2019 12:00:00 AM',\n",
       "  '01/01/2019 12:00:00 AM'],\n",
       " 'Measure': ['Pedestrians',\n",
       "  'Trains',\n",
       "  'Truck Containers Full',\n",
       "  'Pedestrians',\n",
       "  'Truck Containers Empty',\n",
       "  'Pedestrians'],\n",
       " 'Value': [346158, 19, 6483, 172163, 1319, 56810],\n",
       " 'Average': [114487, 0, 0, 56810, 0, 0]}"
      ]
     },
     "execution_count": 196,
     "metadata": {},
     "output_type": "execute_result"
    }
   ],
   "source": [
    "f2"
   ]
  },
  {
   "cell_type": "code",
   "execution_count": 197,
   "metadata": {},
   "outputs": [],
   "source": [
    "# filtering on value. getting indices\n",
    "hello = {}\n",
    "for i,value in enumerate(f2[reportkeys[3]]):\n",
    "    try:\n",
    "        hello[value].append(i)\n",
    "    except:\n",
    "        hello[value] = [i]"
   ]
  },
  {
   "cell_type": "code",
   "execution_count": 198,
   "metadata": {},
   "outputs": [],
   "source": [
    "# filtering on movavg. getting indices\n",
    "hello2 = {}\n",
    "for i,movavg in enumerate(f2[reportkeys[4]]):\n",
    "    try:\n",
    "        hello2[movavg].append(i)\n",
    "    except:\n",
    "        hello2[movavg] = [i]"
   ]
  },
  {
   "cell_type": "code",
   "execution_count": 199,
   "metadata": {},
   "outputs": [
    {
     "data": {
      "text/plain": [
       "{114487: [0], 0: [1, 2, 4, 5], 56810: [3]}"
      ]
     },
     "execution_count": 199,
     "metadata": {},
     "output_type": "execute_result"
    }
   ],
   "source": [
    "hello2"
   ]
  },
  {
   "cell_type": "code",
   "execution_count": 202,
   "metadata": {},
   "outputs": [
    {
     "data": {
      "text/plain": [
       "{'03/01/2019 12:00:00 AM': [0, 1, 2],\n",
       " '02/01/2019 12:00:00 AM': [3, 4],\n",
       " '01/01/2019 12:00:00 AM': [5]}"
      ]
     },
     "execution_count": 202,
     "metadata": {},
     "output_type": "execute_result"
    }
   ],
   "source": [
    "# filtering on dates. getting indices\n",
    "h3 = {}\n",
    "for i,date in enumerate(f2[reportkeys[1]]):\n",
    "    try:\n",
    "        h3[date].append(i)\n",
    "    except:\n",
    "        h3[date] = [i]\n",
    "h3"
   ]
  },
  {
   "cell_type": "code",
   "execution_count": 203,
   "metadata": {},
   "outputs": [
    {
     "data": {
      "text/plain": [
       "{'Pedestrians': [0, 3, 5],\n",
       " 'Trains': [1],\n",
       " 'Truck Containers Full': [2],\n",
       " 'Truck Containers Empty': [4]}"
      ]
     },
     "execution_count": 203,
     "metadata": {},
     "output_type": "execute_result"
    }
   ],
   "source": [
    "# filtering on measure. getting indices\n",
    "h4 = {}\n",
    "for i,measure in enumerate(f2[reportkeys[2]]):\n",
    "    try:\n",
    "        h4[measure].append(i)\n",
    "    except:\n",
    "        h4[measure] = [i]\n",
    "h4"
   ]
  },
  {
   "cell_type": "code",
   "execution_count": 204,
   "metadata": {},
   "outputs": [
    {
     "data": {
      "text/plain": [
       "{'US-Mexico Border': [0, 3, 5], 'US-Canada Border': [1, 2, 4]}"
      ]
     },
     "execution_count": 204,
     "metadata": {},
     "output_type": "execute_result"
    }
   ],
   "source": [
    "# filtering on border. getting indices\n",
    "h5 = {}\n",
    "for i,border in enumerate(f2[reportkeys[0]]):\n",
    "    try:\n",
    "        h5[border].append(i)\n",
    "    except:\n",
    "        h5[border] = [i]\n",
    "h5"
   ]
  },
  {
   "cell_type": "code",
   "execution_count": 207,
   "metadata": {},
   "outputs": [
    {
     "name": "stdout",
     "output_type": "stream",
     "text": [
      "US-Mexico Border 03/01/2019 12:00:00 AM Pedestrians 346158 114487\n",
      "US-Canada Border 03/01/2019 12:00:00 AM Truck Containers Full 6483 0\n",
      "US-Canada Border 03/01/2019 12:00:00 AM Trains 19 0\n",
      "US-Mexico Border 02/01/2019 12:00:00 AM Pedestrians 172163 56810\n",
      "US-Canada Border 02/01/2019 12:00:00 AM Truck Containers Empty 1319 0\n",
      "US-Mexico Border 01/01/2019 12:00:00 AM Pedestrians 56810 0\n"
     ]
    }
   ],
   "source": [
    "f3 = {}\n",
    "for key in reportkeys:\n",
    "    f3[key] = []\n",
    "    \n",
    "for date in sorted(h3,reverse=True):\n",
    "    for value in sorted(hello,reverse = True):\n",
    "        for measure in sorted(h4):\n",
    "            for border in sorted(h5):\n",
    "                for movavg in hello2:\n",
    "                    inter = list(set(h4[measure]) & set(h3[date]) & set(h5[border]) & set(hello[value]) & set(hello2[movavg]))\n",
    "                    if len(inter) != 0:\n",
    "                        print(border,date,measure,value,movavg)\n",
    "                        f3[reportkeys[0]].append(border)\n",
    "                        f3[reportkeys[1]].append(date)\n",
    "                        f3[reportkeys[2]].append(measure)\n",
    "                        f3[reportkeys[3]].append(value)\n",
    "                        f3[reportkeys[4]].append(movavg)"
   ]
  },
  {
   "cell_type": "code",
   "execution_count": 208,
   "metadata": {},
   "outputs": [
    {
     "data": {
      "text/plain": [
       "{'Border': ['US-Mexico Border',\n",
       "  'US-Canada Border',\n",
       "  'US-Canada Border',\n",
       "  'US-Mexico Border',\n",
       "  'US-Canada Border',\n",
       "  'US-Mexico Border'],\n",
       " 'Date': ['03/01/2019 12:00:00 AM',\n",
       "  '03/01/2019 12:00:00 AM',\n",
       "  '03/01/2019 12:00:00 AM',\n",
       "  '02/01/2019 12:00:00 AM',\n",
       "  '02/01/2019 12:00:00 AM',\n",
       "  '01/01/2019 12:00:00 AM'],\n",
       " 'Measure': ['Pedestrians',\n",
       "  'Truck Containers Full',\n",
       "  'Trains',\n",
       "  'Pedestrians',\n",
       "  'Truck Containers Empty',\n",
       "  'Pedestrians'],\n",
       " 'Value': [346158, 6483, 19, 172163, 1319, 56810],\n",
       " 'Average': [114487, 0, 0, 56810, 0, 0]}"
      ]
     },
     "execution_count": 208,
     "metadata": {},
     "output_type": "execute_result"
    }
   ],
   "source": [
    "f3"
   ]
  },
  {
   "cell_type": "code",
   "execution_count": null,
   "metadata": {},
   "outputs": [],
   "source": []
  }
 ],
 "metadata": {
  "kernelspec": {
   "display_name": "Python 3",
   "language": "python",
   "name": "python3"
  },
  "language_info": {
   "codemirror_mode": {
    "name": "ipython",
    "version": 3
   },
   "file_extension": ".py",
   "mimetype": "text/x-python",
   "name": "python",
   "nbconvert_exporter": "python",
   "pygments_lexer": "ipython3",
   "version": "3.6.6"
  }
 },
 "nbformat": 4,
 "nbformat_minor": 2
}
